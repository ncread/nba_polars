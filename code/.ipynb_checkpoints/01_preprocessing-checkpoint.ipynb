{
 "cells": [
  {
   "cell_type": "markdown",
   "id": "dcc51845",
   "metadata": {},
   "source": [
    "##### Importing Libraries"
   ]
  },
  {
   "cell_type": "code",
   "execution_count": 8,
   "id": "dfa595a4",
   "metadata": {},
   "outputs": [],
   "source": [
    "import polars as pl\n",
    "import pandas as pd\n",
    "import numpy as np\n",
    "import os\n",
    "import pickle"
   ]
  },
  {
   "cell_type": "code",
   "execution_count": 2,
   "id": "9893050c",
   "metadata": {},
   "outputs": [],
   "source": [
    "data_path = '../data/NBA322.csv'"
   ]
  },
  {
   "cell_type": "markdown",
   "id": "9ee35233",
   "metadata": {},
   "source": [
    "##### using polars"
   ]
  },
  {
   "cell_type": "code",
   "execution_count": 73,
   "id": "0a6b5f7d",
   "metadata": {},
   "outputs": [],
   "source": [
    "nba_df = pl.read_csv(data_path)"
   ]
  },
  {
   "cell_type": "code",
   "execution_count": 30,
   "id": "190d0456",
   "metadata": {},
   "outputs": [
    {
     "data": {
      "text/html": [
       "<div><style>\n",
       ".dataframe > thead > tr > th,\n",
       ".dataframe > tbody > tr > td {\n",
       "  text-align: right;\n",
       "}\n",
       "</style>\n",
       "<small>shape: (5, 31)</small><table border=\"1\" class=\"dataframe\"><thead><tr><th>Rk▲</th><th>Player</th><th>Pos</th><th>Age</th><th>Tm</th><th>G</th><th>GS</th><th>MP</th><th>FG</th><th>FGA</th><th>FG%</th><th>3P</th><th>3PA</th><th>3P%</th><th>2P</th><th>2PA</th><th>2P%</th><th>eFG%</th><th>FT</th><th>FTA</th><th>FT%</th><th>ORB</th><th>DRB</th><th>TRB</th><th>AST</th><th>STL</th><th>BLK</th><th>TOV</th><th>PF</th><th>PTS</th><th>Player-additional</th></tr><tr><td>i64</td><td>str</td><td>str</td><td>i64</td><td>str</td><td>i64</td><td>i64</td><td>i64</td><td>i64</td><td>i64</td><td>f64</td><td>i64</td><td>i64</td><td>f64</td><td>i64</td><td>i64</td><td>f64</td><td>f64</td><td>i64</td><td>i64</td><td>f64</td><td>i64</td><td>i64</td><td>i64</td><td>i64</td><td>i64</td><td>i64</td><td>i64</td><td>i64</td><td>i64</td><td>str</td></tr></thead><tbody><tr><td>1</td><td>&quot;Precious Achiu...</td><td>&quot;C&quot;</td><td>23</td><td>&quot;TOR&quot;</td><td>47</td><td>11</td><td>1004</td><td>161</td><td>340</td><td>0.474</td><td>21</td><td>85</td><td>0.247</td><td>140</td><td>255</td><td>0.549</td><td>0.504</td><td>81</td><td>116</td><td>0.698</td><td>86</td><td>194</td><td>280</td><td>46</td><td>26</td><td>27</td><td>52</td><td>92</td><td>424</td><td>&quot;achiupr01&quot;</td></tr><tr><td>2</td><td>&quot;Steven Adams&quot;</td><td>&quot;C&quot;</td><td>29</td><td>&quot;MEM&quot;</td><td>42</td><td>42</td><td>1133</td><td>157</td><td>263</td><td>0.597</td><td>0</td><td>1</td><td>0.0</td><td>157</td><td>262</td><td>0.599</td><td>0.597</td><td>47</td><td>129</td><td>0.364</td><td>214</td><td>271</td><td>485</td><td>97</td><td>36</td><td>46</td><td>79</td><td>98</td><td>361</td><td>&quot;adamsst01&quot;</td></tr><tr><td>3</td><td>&quot;Bam Adebayo&quot;</td><td>&quot;C&quot;</td><td>25</td><td>&quot;MIA&quot;</td><td>68</td><td>68</td><td>2389</td><td>563</td><td>1037</td><td>0.543</td><td>1</td><td>12</td><td>0.083</td><td>562</td><td>1025</td><td>0.548</td><td>0.543</td><td>305</td><td>380</td><td>0.803</td><td>165</td><td>471</td><td>636</td><td>223</td><td>81</td><td>59</td><td>176</td><td>195</td><td>1432</td><td>&quot;adebaba01&quot;</td></tr><tr><td>4</td><td>&quot;Ochai Agbaji&quot;</td><td>&quot;SG&quot;</td><td>22</td><td>&quot;UTA&quot;</td><td>48</td><td>11</td><td>878</td><td>112</td><td>245</td><td>0.457</td><td>60</td><td>157</td><td>0.382</td><td>52</td><td>88</td><td>0.591</td><td>0.58</td><td>29</td><td>38</td><td>0.763</td><td>33</td><td>57</td><td>90</td><td>37</td><td>12</td><td>8</td><td>23</td><td>76</td><td>313</td><td>&quot;agbajoc01&quot;</td></tr><tr><td>5</td><td>&quot;Santi Aldama&quot;</td><td>&quot;PF&quot;</td><td>22</td><td>&quot;MEM&quot;</td><td>68</td><td>18</td><td>1495</td><td>225</td><td>480</td><td>0.469</td><td>86</td><td>247</td><td>0.348</td><td>139</td><td>233</td><td>0.597</td><td>0.558</td><td>95</td><td>129</td><td>0.736</td><td>76</td><td>248</td><td>324</td><td>85</td><td>39</td><td>45</td><td>50</td><td>129</td><td>631</td><td>&quot;aldamsa01&quot;</td></tr></tbody></table></div>"
      ],
      "text/plain": [
       "shape: (5, 31)\n",
       "┌─────┬──────────────────┬─────┬─────┬─────┬─────┬─────┬──────┬───────────────────┐\n",
       "│ Rk▲ ┆ Player           ┆ Pos ┆ Age ┆ ... ┆ TOV ┆ PF  ┆ PTS  ┆ Player-additional │\n",
       "│ --- ┆ ---              ┆ --- ┆ --- ┆     ┆ --- ┆ --- ┆ ---  ┆ ---               │\n",
       "│ i64 ┆ str              ┆ str ┆ i64 ┆     ┆ i64 ┆ i64 ┆ i64  ┆ str               │\n",
       "╞═════╪══════════════════╪═════╪═════╪═════╪═════╪═════╪══════╪═══════════════════╡\n",
       "│ 1   ┆ Precious Achiuwa ┆ C   ┆ 23  ┆ ... ┆ 52  ┆ 92  ┆ 424  ┆ achiupr01         │\n",
       "│ 2   ┆ Steven Adams     ┆ C   ┆ 29  ┆ ... ┆ 79  ┆ 98  ┆ 361  ┆ adamsst01         │\n",
       "│ 3   ┆ Bam Adebayo      ┆ C   ┆ 25  ┆ ... ┆ 176 ┆ 195 ┆ 1432 ┆ adebaba01         │\n",
       "│ 4   ┆ Ochai Agbaji     ┆ SG  ┆ 22  ┆ ... ┆ 23  ┆ 76  ┆ 313  ┆ agbajoc01         │\n",
       "│ 5   ┆ Santi Aldama     ┆ PF  ┆ 22  ┆ ... ┆ 50  ┆ 129 ┆ 631  ┆ aldamsa01         │\n",
       "└─────┴──────────────────┴─────┴─────┴─────┴─────┴─────┴──────┴───────────────────┘"
      ]
     },
     "execution_count": 30,
     "metadata": {},
     "output_type": "execute_result"
    }
   ],
   "source": [
    "nba_df.head()\n",
    "#nba_df.sample(n=3) yields n random rows"
   ]
  },
  {
   "cell_type": "markdown",
   "id": "37ee6ecd",
   "metadata": {},
   "source": [
    "##### compare to pandas"
   ]
  },
  {
   "cell_type": "code",
   "execution_count": 12,
   "id": "06e0ae69",
   "metadata": {},
   "outputs": [],
   "source": [
    "nba_pandas = pd.read_csv(data_path)"
   ]
  },
  {
   "cell_type": "code",
   "execution_count": 13,
   "id": "ba902735",
   "metadata": {},
   "outputs": [
    {
     "data": {
      "text/html": [
       "<div>\n",
       "<style scoped>\n",
       "    .dataframe tbody tr th:only-of-type {\n",
       "        vertical-align: middle;\n",
       "    }\n",
       "\n",
       "    .dataframe tbody tr th {\n",
       "        vertical-align: top;\n",
       "    }\n",
       "\n",
       "    .dataframe thead th {\n",
       "        text-align: right;\n",
       "    }\n",
       "</style>\n",
       "<table border=\"1\" class=\"dataframe\">\n",
       "  <thead>\n",
       "    <tr style=\"text-align: right;\">\n",
       "      <th></th>\n",
       "      <th>Rk▲</th>\n",
       "      <th>Player</th>\n",
       "      <th>Pos</th>\n",
       "      <th>Age</th>\n",
       "      <th>Tm</th>\n",
       "      <th>G</th>\n",
       "      <th>GS</th>\n",
       "      <th>MP</th>\n",
       "      <th>FG</th>\n",
       "      <th>FGA</th>\n",
       "      <th>...</th>\n",
       "      <th>ORB</th>\n",
       "      <th>DRB</th>\n",
       "      <th>TRB</th>\n",
       "      <th>AST</th>\n",
       "      <th>STL</th>\n",
       "      <th>BLK</th>\n",
       "      <th>TOV</th>\n",
       "      <th>PF</th>\n",
       "      <th>PTS</th>\n",
       "      <th>Player-additional</th>\n",
       "    </tr>\n",
       "  </thead>\n",
       "  <tbody>\n",
       "    <tr>\n",
       "      <th>0</th>\n",
       "      <td>1</td>\n",
       "      <td>Precious Achiuwa</td>\n",
       "      <td>C</td>\n",
       "      <td>23</td>\n",
       "      <td>TOR</td>\n",
       "      <td>47</td>\n",
       "      <td>11</td>\n",
       "      <td>1004</td>\n",
       "      <td>161</td>\n",
       "      <td>340</td>\n",
       "      <td>...</td>\n",
       "      <td>86</td>\n",
       "      <td>194</td>\n",
       "      <td>280</td>\n",
       "      <td>46</td>\n",
       "      <td>26</td>\n",
       "      <td>27</td>\n",
       "      <td>52</td>\n",
       "      <td>92</td>\n",
       "      <td>424</td>\n",
       "      <td>achiupr01</td>\n",
       "    </tr>\n",
       "    <tr>\n",
       "      <th>1</th>\n",
       "      <td>2</td>\n",
       "      <td>Steven Adams</td>\n",
       "      <td>C</td>\n",
       "      <td>29</td>\n",
       "      <td>MEM</td>\n",
       "      <td>42</td>\n",
       "      <td>42</td>\n",
       "      <td>1133</td>\n",
       "      <td>157</td>\n",
       "      <td>263</td>\n",
       "      <td>...</td>\n",
       "      <td>214</td>\n",
       "      <td>271</td>\n",
       "      <td>485</td>\n",
       "      <td>97</td>\n",
       "      <td>36</td>\n",
       "      <td>46</td>\n",
       "      <td>79</td>\n",
       "      <td>98</td>\n",
       "      <td>361</td>\n",
       "      <td>adamsst01</td>\n",
       "    </tr>\n",
       "    <tr>\n",
       "      <th>2</th>\n",
       "      <td>3</td>\n",
       "      <td>Bam Adebayo</td>\n",
       "      <td>C</td>\n",
       "      <td>25</td>\n",
       "      <td>MIA</td>\n",
       "      <td>68</td>\n",
       "      <td>68</td>\n",
       "      <td>2389</td>\n",
       "      <td>563</td>\n",
       "      <td>1037</td>\n",
       "      <td>...</td>\n",
       "      <td>165</td>\n",
       "      <td>471</td>\n",
       "      <td>636</td>\n",
       "      <td>223</td>\n",
       "      <td>81</td>\n",
       "      <td>59</td>\n",
       "      <td>176</td>\n",
       "      <td>195</td>\n",
       "      <td>1432</td>\n",
       "      <td>adebaba01</td>\n",
       "    </tr>\n",
       "    <tr>\n",
       "      <th>3</th>\n",
       "      <td>4</td>\n",
       "      <td>Ochai Agbaji</td>\n",
       "      <td>SG</td>\n",
       "      <td>22</td>\n",
       "      <td>UTA</td>\n",
       "      <td>48</td>\n",
       "      <td>11</td>\n",
       "      <td>878</td>\n",
       "      <td>112</td>\n",
       "      <td>245</td>\n",
       "      <td>...</td>\n",
       "      <td>33</td>\n",
       "      <td>57</td>\n",
       "      <td>90</td>\n",
       "      <td>37</td>\n",
       "      <td>12</td>\n",
       "      <td>8</td>\n",
       "      <td>23</td>\n",
       "      <td>76</td>\n",
       "      <td>313</td>\n",
       "      <td>agbajoc01</td>\n",
       "    </tr>\n",
       "    <tr>\n",
       "      <th>4</th>\n",
       "      <td>5</td>\n",
       "      <td>Santi Aldama</td>\n",
       "      <td>PF</td>\n",
       "      <td>22</td>\n",
       "      <td>MEM</td>\n",
       "      <td>68</td>\n",
       "      <td>18</td>\n",
       "      <td>1495</td>\n",
       "      <td>225</td>\n",
       "      <td>480</td>\n",
       "      <td>...</td>\n",
       "      <td>76</td>\n",
       "      <td>248</td>\n",
       "      <td>324</td>\n",
       "      <td>85</td>\n",
       "      <td>39</td>\n",
       "      <td>45</td>\n",
       "      <td>50</td>\n",
       "      <td>129</td>\n",
       "      <td>631</td>\n",
       "      <td>aldamsa01</td>\n",
       "    </tr>\n",
       "  </tbody>\n",
       "</table>\n",
       "<p>5 rows × 31 columns</p>\n",
       "</div>"
      ],
      "text/plain": [
       "   Rk▲            Player Pos  Age   Tm   G  GS    MP   FG   FGA  ...  ORB  \\\n",
       "0    1  Precious Achiuwa   C   23  TOR  47  11  1004  161   340  ...   86   \n",
       "1    2      Steven Adams   C   29  MEM  42  42  1133  157   263  ...  214   \n",
       "2    3       Bam Adebayo   C   25  MIA  68  68  2389  563  1037  ...  165   \n",
       "3    4      Ochai Agbaji  SG   22  UTA  48  11   878  112   245  ...   33   \n",
       "4    5      Santi Aldama  PF   22  MEM  68  18  1495  225   480  ...   76   \n",
       "\n",
       "   DRB  TRB  AST  STL  BLK  TOV   PF   PTS  Player-additional  \n",
       "0  194  280   46   26   27   52   92   424          achiupr01  \n",
       "1  271  485   97   36   46   79   98   361          adamsst01  \n",
       "2  471  636  223   81   59  176  195  1432          adebaba01  \n",
       "3   57   90   37   12    8   23   76   313          agbajoc01  \n",
       "4  248  324   85   39   45   50  129   631          aldamsa01  \n",
       "\n",
       "[5 rows x 31 columns]"
      ]
     },
     "execution_count": 13,
     "metadata": {},
     "output_type": "execute_result"
    }
   ],
   "source": [
    "nba_pandas.head()"
   ]
  },
  {
   "cell_type": "markdown",
   "id": "010cd1ef",
   "metadata": {},
   "source": [
    "##### dataset already contains index, so additional pandas index is not necessary. Proceed w/ polars dataframe"
   ]
  },
  {
   "cell_type": "code",
   "execution_count": 31,
   "id": "bca2dc6d",
   "metadata": {},
   "outputs": [
    {
     "data": {
      "text/plain": [
       "(652, 31)"
      ]
     },
     "execution_count": 31,
     "metadata": {},
     "output_type": "execute_result"
    }
   ],
   "source": [
    "nba_df.shape"
   ]
  },
  {
   "cell_type": "code",
   "execution_count": 32,
   "id": "87000260",
   "metadata": {},
   "outputs": [
    {
     "data": {
      "text/html": [
       "<div><style>\n",
       ".dataframe > thead > tr > th,\n",
       ".dataframe > tbody > tr > td {\n",
       "  text-align: right;\n",
       "}\n",
       "</style>\n",
       "<small>shape: (7, 32)</small><table border=\"1\" class=\"dataframe\"><thead><tr><th>describe</th><th>Rk▲</th><th>Player</th><th>Pos</th><th>Age</th><th>Tm</th><th>G</th><th>GS</th><th>MP</th><th>FG</th><th>FGA</th><th>FG%</th><th>3P</th><th>3PA</th><th>3P%</th><th>2P</th><th>2PA</th><th>2P%</th><th>eFG%</th><th>FT</th><th>FTA</th><th>FT%</th><th>ORB</th><th>DRB</th><th>TRB</th><th>AST</th><th>STL</th><th>BLK</th><th>TOV</th><th>PF</th><th>PTS</th><th>Player-additional</th></tr><tr><td>str</td><td>f64</td><td>str</td><td>str</td><td>f64</td><td>str</td><td>f64</td><td>f64</td><td>f64</td><td>f64</td><td>f64</td><td>f64</td><td>f64</td><td>f64</td><td>f64</td><td>f64</td><td>f64</td><td>f64</td><td>f64</td><td>f64</td><td>f64</td><td>f64</td><td>f64</td><td>f64</td><td>f64</td><td>f64</td><td>f64</td><td>f64</td><td>f64</td><td>f64</td><td>f64</td><td>str</td></tr></thead><tbody><tr><td>&quot;count&quot;</td><td>652.0</td><td>&quot;652&quot;</td><td>&quot;652&quot;</td><td>652.0</td><td>&quot;652&quot;</td><td>652.0</td><td>652.0</td><td>652.0</td><td>652.0</td><td>652.0</td><td>652.0</td><td>652.0</td><td>652.0</td><td>652.0</td><td>652.0</td><td>652.0</td><td>652.0</td><td>652.0</td><td>652.0</td><td>652.0</td><td>652.0</td><td>652.0</td><td>652.0</td><td>652.0</td><td>652.0</td><td>652.0</td><td>652.0</td><td>652.0</td><td>652.0</td><td>652.0</td><td>&quot;652&quot;</td></tr><tr><td>&quot;null_count&quot;</td><td>0.0</td><td>&quot;0&quot;</td><td>&quot;0&quot;</td><td>0.0</td><td>&quot;0&quot;</td><td>0.0</td><td>0.0</td><td>0.0</td><td>0.0</td><td>0.0</td><td>3.0</td><td>0.0</td><td>0.0</td><td>28.0</td><td>0.0</td><td>0.0</td><td>7.0</td><td>3.0</td><td>0.0</td><td>0.0</td><td>51.0</td><td>0.0</td><td>0.0</td><td>0.0</td><td>0.0</td><td>0.0</td><td>0.0</td><td>0.0</td><td>0.0</td><td>0.0</td><td>&quot;0&quot;</td></tr><tr><td>&quot;mean&quot;</td><td>326.5</td><td>null</td><td>null</td><td>26.041411</td><td>null</td><td>39.424847</td><td>18.33589</td><td>897.803681</td><td>153.843558</td><td>325.191718</td><td>0.464436</td><td>46.194785</td><td>127.935583</td><td>0.324856</td><td>107.648773</td><td>197.256135</td><td>0.534958</td><td>0.534857</td><td>67.753067</td><td>86.590491</td><td>0.747819</td><td>38.338957</td><td>122.023006</td><td>160.361963</td><td>93.211656</td><td>27.174847</td><td>17.029141</td><td>49.846626</td><td>74.71319</td><td>421.634969</td><td>null</td></tr><tr><td>&quot;std&quot;</td><td>188.36047</td><td>null</td><td>null</td><td>4.333608</td><td>null</td><td>22.181811</td><td>23.654432</td><td>731.171991</td><td>154.902774</td><td>322.542623</td><td>0.122299</td><td>52.517428</td><td>139.87589</td><td>0.130731</td><td>120.304877</td><td>216.925162</td><td>0.150151</td><td>0.119461</td><td>90.441342</td><td>111.27228</td><td>0.155407</td><td>44.702328</td><td>119.29204</td><td>157.777549</td><td>111.458111</td><td>24.714159</td><td>22.195281</td><td>51.189156</td><td>58.653155</td><td>432.670028</td><td>null</td></tr><tr><td>&quot;min&quot;</td><td>1.0</td><td>&quot;A.J. Green&quot;</td><td>&quot;C&quot;</td><td>19.0</td><td>&quot;ATL&quot;</td><td>1.0</td><td>0.0</td><td>1.0</td><td>0.0</td><td>0.0</td><td>0.0</td><td>0.0</td><td>0.0</td><td>0.0</td><td>0.0</td><td>0.0</td><td>0.0</td><td>0.0</td><td>0.0</td><td>0.0</td><td>0.0</td><td>0.0</td><td>0.0</td><td>0.0</td><td>0.0</td><td>0.0</td><td>0.0</td><td>0.0</td><td>0.0</td><td>0.0</td><td>&quot;achiupr01&quot;</td></tr><tr><td>&quot;max&quot;</td><td>652.0</td><td>&quot;Zion Williamso...</td><td>&quot;SG-PG&quot;</td><td>42.0</td><td>&quot;WAS&quot;</td><td>74.0</td><td>73.0</td><td>2627.0</td><td>665.0</td><td>1449.0</td><td>1.0</td><td>265.0</td><td>648.0</td><td>1.0</td><td>586.0</td><td>1095.0</td><td>1.0</td><td>1.0</td><td>591.0</td><td>707.0</td><td>1.0</td><td>238.0</td><td>661.0</td><td>875.0</td><td>654.0</td><td>114.0</td><td>172.0</td><td>264.0</td><td>252.0</td><td>2044.0</td><td>&quot;zubaciv01&quot;</td></tr><tr><td>&quot;median&quot;</td><td>326.5</td><td>null</td><td>null</td><td>25.0</td><td>null</td><td>42.0</td><td>5.0</td><td>730.5</td><td>101.5</td><td>211.0</td><td>0.455</td><td>26.5</td><td>80.0</td><td>0.348</td><td>60.0</td><td>110.5</td><td>0.534</td><td>0.537</td><td>32.0</td><td>44.0</td><td>0.769</td><td>23.5</td><td>88.5</td><td>118.0</td><td>50.5</td><td>20.0</td><td>10.0</td><td>32.0</td><td>65.5</td><td>265.5</td><td>null</td></tr></tbody></table></div>"
      ],
      "text/plain": [
       "shape: (7, 32)\n",
       "┌────────────┬───────────┬─────────────────┬───────┬─────┬───────────┬───────────┬────────────┬───────────────────┐\n",
       "│ describe   ┆ Rk▲       ┆ Player          ┆ Pos   ┆ ... ┆ TOV       ┆ PF        ┆ PTS        ┆ Player-additional │\n",
       "│ ---        ┆ ---       ┆ ---             ┆ ---   ┆     ┆ ---       ┆ ---       ┆ ---        ┆ ---               │\n",
       "│ str        ┆ f64       ┆ str             ┆ str   ┆     ┆ f64       ┆ f64       ┆ f64        ┆ str               │\n",
       "╞════════════╪═══════════╪═════════════════╪═══════╪═════╪═══════════╪═══════════╪════════════╪═══════════════════╡\n",
       "│ count      ┆ 652.0     ┆ 652             ┆ 652   ┆ ... ┆ 652.0     ┆ 652.0     ┆ 652.0      ┆ 652               │\n",
       "│ null_count ┆ 0.0       ┆ 0               ┆ 0     ┆ ... ┆ 0.0       ┆ 0.0       ┆ 0.0        ┆ 0                 │\n",
       "│ mean       ┆ 326.5     ┆ null            ┆ null  ┆ ... ┆ 49.846626 ┆ 74.71319  ┆ 421.634969 ┆ null              │\n",
       "│ std        ┆ 188.36047 ┆ null            ┆ null  ┆ ... ┆ 51.189156 ┆ 58.653155 ┆ 432.670028 ┆ null              │\n",
       "│ min        ┆ 1.0       ┆ A.J. Green      ┆ C     ┆ ... ┆ 0.0       ┆ 0.0       ┆ 0.0        ┆ achiupr01         │\n",
       "│ max        ┆ 652.0     ┆ Zion Williamson ┆ SG-PG ┆ ... ┆ 264.0     ┆ 252.0     ┆ 2044.0     ┆ zubaciv01         │\n",
       "│ median     ┆ 326.5     ┆ null            ┆ null  ┆ ... ┆ 32.0      ┆ 65.5      ┆ 265.5      ┆ null              │\n",
       "└────────────┴───────────┴─────────────────┴───────┴─────┴───────────┴───────────┴────────────┴───────────────────┘"
      ]
     },
     "execution_count": 32,
     "metadata": {},
     "output_type": "execute_result"
    }
   ],
   "source": [
    "nba_df.describe()"
   ]
  },
  {
   "cell_type": "code",
   "execution_count": 39,
   "id": "54214551",
   "metadata": {},
   "outputs": [
    {
     "data": {
      "text/plain": [
       "['Rk▲',\n",
       " 'Player',\n",
       " 'Pos',\n",
       " 'Age',\n",
       " 'Tm',\n",
       " 'G',\n",
       " 'GS',\n",
       " 'MP',\n",
       " 'FG',\n",
       " 'FGA',\n",
       " 'FG%',\n",
       " '3P',\n",
       " '3PA',\n",
       " '3P%',\n",
       " '2P',\n",
       " '2PA',\n",
       " '2P%',\n",
       " 'eFG%',\n",
       " 'FT',\n",
       " 'FTA',\n",
       " 'FT%',\n",
       " 'ORB',\n",
       " 'DRB',\n",
       " 'TRB',\n",
       " 'AST',\n",
       " 'STL',\n",
       " 'BLK',\n",
       " 'TOV',\n",
       " 'PF',\n",
       " 'PTS',\n",
       " 'Player-additional']"
      ]
     },
     "execution_count": 39,
     "metadata": {},
     "output_type": "execute_result"
    }
   ],
   "source": [
    "nba_df.columns"
   ]
  },
  {
   "cell_type": "markdown",
   "id": "2bbf123c",
   "metadata": {},
   "source": [
    "##### dropping rank and player-additional columns"
   ]
  },
  {
   "cell_type": "code",
   "execution_count": 74,
   "id": "8fc2fa51",
   "metadata": {},
   "outputs": [],
   "source": [
    "nba_df = nba_df.drop(['Player-additional','Rk▲'])"
   ]
  },
  {
   "cell_type": "code",
   "execution_count": 81,
   "id": "4c365e84",
   "metadata": {},
   "outputs": [
    {
     "data": {
      "text/html": [
       "<div><style>\n",
       ".dataframe > thead > tr > th,\n",
       ".dataframe > tbody > tr > td {\n",
       "  text-align: right;\n",
       "}\n",
       "</style>\n",
       "<small>shape: (5, 29)</small><table border=\"1\" class=\"dataframe\"><thead><tr><th>Player</th><th>Pos</th><th>Age</th><th>Tm</th><th>G</th><th>GS</th><th>MP</th><th>FG</th><th>FGA</th><th>FG%</th><th>3P</th><th>3PA</th><th>3P%</th><th>2P</th><th>2PA</th><th>2P%</th><th>eFG%</th><th>FT</th><th>FTA</th><th>FT%</th><th>ORB</th><th>DRB</th><th>TRB</th><th>AST</th><th>STL</th><th>BLK</th><th>TOV</th><th>PF</th><th>PTS</th></tr><tr><td>str</td><td>str</td><td>i64</td><td>str</td><td>i64</td><td>i64</td><td>i64</td><td>i64</td><td>i64</td><td>f64</td><td>i64</td><td>i64</td><td>f64</td><td>i64</td><td>i64</td><td>f64</td><td>f64</td><td>i64</td><td>i64</td><td>f64</td><td>i64</td><td>i64</td><td>i64</td><td>i64</td><td>i64</td><td>i64</td><td>i64</td><td>i64</td><td>i64</td></tr></thead><tbody><tr><td>&quot;DeMar DeRozan&quot;</td><td>&quot;SF&quot;</td><td>33</td><td>&quot;CHI&quot;</td><td>65</td><td>65</td><td>2389</td><td>597</td><td>1167</td><td>0.512</td><td>39</td><td>115</td><td>0.339</td><td>558</td><td>1052</td><td>0.53</td><td>0.528</td><td>420</td><td>483</td><td>0.87</td><td>31</td><td>277</td><td>308</td><td>330</td><td>72</td><td>33</td><td>140</td><td>172</td><td>1653</td></tr><tr><td>&quot;Wenyen Gabriel...</td><td>&quot;PF&quot;</td><td>25</td><td>&quot;LAL&quot;</td><td>58</td><td>2</td><td>891</td><td>142</td><td>237</td><td>0.599</td><td>9</td><td>31</td><td>0.29</td><td>133</td><td>206</td><td>0.646</td><td>0.618</td><td>46</td><td>73</td><td>0.63</td><td>107</td><td>143</td><td>250</td><td>30</td><td>21</td><td>31</td><td>39</td><td>128</td><td>339</td></tr><tr><td>&quot;Scottie Barnes...</td><td>&quot;PF&quot;</td><td>21</td><td>&quot;TOR&quot;</td><td>69</td><td>68</td><td>2409</td><td>415</td><td>916</td><td>0.453</td><td>61</td><td>205</td><td>0.298</td><td>354</td><td>711</td><td>0.498</td><td>0.486</td><td>178</td><td>230</td><td>0.774</td><td>165</td><td>308</td><td>473</td><td>326</td><td>68</td><td>56</td><td>140</td><td>154</td><td>1069</td></tr><tr><td>&quot;James Johnson&quot;</td><td>&quot;PF&quot;</td><td>35</td><td>&quot;IND&quot;</td><td>14</td><td>1</td><td>124</td><td>14</td><td>35</td><td>0.4</td><td>3</td><td>12</td><td>0.25</td><td>11</td><td>23</td><td>0.478</td><td>0.443</td><td>4</td><td>6</td><td>0.667</td><td>2</td><td>19</td><td>21</td><td>10</td><td>4</td><td>6</td><td>5</td><td>27</td><td>35</td></tr><tr><td>&quot;Meyers Leonard...</td><td>&quot;C&quot;</td><td>30</td><td>&quot;MIL&quot;</td><td>6</td><td>0</td><td>51</td><td>8</td><td>14</td><td>0.571</td><td>5</td><td>10</td><td>0.5</td><td>3</td><td>4</td><td>0.75</td><td>0.75</td><td>3</td><td>4</td><td>0.75</td><td>2</td><td>11</td><td>13</td><td>0</td><td>1</td><td>0</td><td>2</td><td>7</td><td>24</td></tr></tbody></table></div>"
      ],
      "text/plain": [
       "shape: (5, 29)\n",
       "┌────────────────┬─────┬─────┬─────┬─────┬─────┬─────┬─────┬──────┐\n",
       "│ Player         ┆ Pos ┆ Age ┆ Tm  ┆ ... ┆ BLK ┆ TOV ┆ PF  ┆ PTS  │\n",
       "│ ---            ┆ --- ┆ --- ┆ --- ┆     ┆ --- ┆ --- ┆ --- ┆ ---  │\n",
       "│ str            ┆ str ┆ i64 ┆ str ┆     ┆ i64 ┆ i64 ┆ i64 ┆ i64  │\n",
       "╞════════════════╪═════╪═════╪═════╪═════╪═════╪═════╪═════╪══════╡\n",
       "│ DeMar DeRozan  ┆ SF  ┆ 33  ┆ CHI ┆ ... ┆ 33  ┆ 140 ┆ 172 ┆ 1653 │\n",
       "│ Wenyen Gabriel ┆ PF  ┆ 25  ┆ LAL ┆ ... ┆ 31  ┆ 39  ┆ 128 ┆ 339  │\n",
       "│ Scottie Barnes ┆ PF  ┆ 21  ┆ TOR ┆ ... ┆ 56  ┆ 140 ┆ 154 ┆ 1069 │\n",
       "│ James Johnson  ┆ PF  ┆ 35  ┆ IND ┆ ... ┆ 6   ┆ 5   ┆ 27  ┆ 35   │\n",
       "│ Meyers Leonard ┆ C   ┆ 30  ┆ MIL ┆ ... ┆ 0   ┆ 2   ┆ 7   ┆ 24   │\n",
       "└────────────────┴─────┴─────┴─────┴─────┴─────┴─────┴─────┴──────┘"
      ]
     },
     "execution_count": 81,
     "metadata": {},
     "output_type": "execute_result"
    }
   ],
   "source": [
    "nba_df.sample(5)"
   ]
  },
  {
   "cell_type": "code",
   "execution_count": 83,
   "id": "c305e9b1",
   "metadata": {},
   "outputs": [
    {
     "ename": "AttributeError",
     "evalue": "'DataFrame' object has no attribute 'value_counts'",
     "output_type": "error",
     "traceback": [
      "\u001b[1;31m---------------------------------------------------------------------------\u001b[0m",
      "\u001b[1;31mAttributeError\u001b[0m                            Traceback (most recent call last)",
      "Input \u001b[1;32mIn [83]\u001b[0m, in \u001b[0;36m<cell line: 1>\u001b[1;34m()\u001b[0m\n\u001b[1;32m----> 1\u001b[0m \u001b[43mnba_df\u001b[49m\u001b[38;5;241;43m.\u001b[39;49m\u001b[43mselect\u001b[49m\u001b[43m(\u001b[49m\u001b[38;5;124;43m'\u001b[39;49m\u001b[38;5;124;43mAge\u001b[39;49m\u001b[38;5;124;43m'\u001b[39;49m\u001b[43m)\u001b[49m\u001b[38;5;241;43m.\u001b[39;49m\u001b[43mvalue_counts\u001b[49m()\n",
      "File \u001b[1;32m~\\anaconda3\\lib\\site-packages\\polars\\utils\\decorators.py:169\u001b[0m, in \u001b[0;36mredirect.<locals>._redirecting_getattr_\u001b[1;34m(obj, item)\u001b[0m\n\u001b[0;32m    162\u001b[0m     warnings\u001b[38;5;241m.\u001b[39mwarn(\n\u001b[0;32m    163\u001b[0m         \u001b[38;5;124mf\u001b[39m\u001b[38;5;124m\"\u001b[39m\u001b[38;5;124m`\u001b[39m\u001b[38;5;132;01m{\u001b[39;00m\u001b[38;5;28mtype\u001b[39m(obj)\u001b[38;5;241m.\u001b[39m\u001b[38;5;18m__name__\u001b[39m\u001b[38;5;132;01m}\u001b[39;00m\u001b[38;5;124m.\u001b[39m\u001b[38;5;132;01m{\u001b[39;00mitem\u001b[38;5;132;01m}\u001b[39;00m\u001b[38;5;124m` has been renamed; this\u001b[39m\u001b[38;5;124m\"\u001b[39m\n\u001b[0;32m    164\u001b[0m         \u001b[38;5;124mf\u001b[39m\u001b[38;5;124m\"\u001b[39m\u001b[38;5;124m redirect is temporary, please use `.\u001b[39m\u001b[38;5;132;01m{\u001b[39;00mnew_item\u001b[38;5;132;01m}\u001b[39;00m\u001b[38;5;124m` instead\u001b[39m\u001b[38;5;124m\"\u001b[39m,\n\u001b[0;32m    165\u001b[0m         category\u001b[38;5;241m=\u001b[39m\u001b[38;5;167;01mDeprecationWarning\u001b[39;00m,\n\u001b[0;32m    166\u001b[0m         stacklevel\u001b[38;5;241m=\u001b[39m\u001b[38;5;241m2\u001b[39m,\n\u001b[0;32m    167\u001b[0m     )\n\u001b[0;32m    168\u001b[0m     item \u001b[38;5;241m=\u001b[39m new_item\n\u001b[1;32m--> 169\u001b[0m \u001b[38;5;28;01mreturn\u001b[39;00m \u001b[43mobj\u001b[49m\u001b[38;5;241;43m.\u001b[39;49m\u001b[38;5;21;43m__getattribute__\u001b[39;49m\u001b[43m(\u001b[49m\u001b[43mitem\u001b[49m\u001b[43m)\u001b[49m\n",
      "\u001b[1;31mAttributeError\u001b[0m: 'DataFrame' object has no attribute 'value_counts'"
     ]
    }
   ],
   "source": [
    "nba_df.select('Age').value_counts()"
   ]
  },
  {
   "cell_type": "code",
   "execution_count": 87,
   "id": "54fab5d5",
   "metadata": {},
   "outputs": [
    {
     "data": {
      "text/html": [
       "<div><style>\n",
       ".dataframe > thead > tr > th,\n",
       ".dataframe > tbody > tr > td {\n",
       "  text-align: right;\n",
       "}\n",
       "</style>\n",
       "<small>shape: (22, 2)</small><table border=\"1\" class=\"dataframe\"><thead><tr><th>Age</th><th>count</th></tr><tr><td>i64</td><td>u32</td></tr></thead><tbody><tr><td>19</td><td>14</td></tr><tr><td>20</td><td>30</td></tr><tr><td>21</td><td>46</td></tr><tr><td>22</td><td>53</td></tr><tr><td>23</td><td>77</td></tr><tr><td>24</td><td>61</td></tr><tr><td>25</td><td>63</td></tr><tr><td>26</td><td>49</td></tr><tr><td>27</td><td>50</td></tr><tr><td>28</td><td>31</td></tr><tr><td>29</td><td>36</td></tr><tr><td>30</td><td>31</td></tr><tr><td>31</td><td>19</td></tr><tr><td>32</td><td>25</td></tr><tr><td>33</td><td>17</td></tr><tr><td>34</td><td>25</td></tr><tr><td>35</td><td>9</td></tr><tr><td>36</td><td>10</td></tr><tr><td>37</td><td>3</td></tr><tr><td>38</td><td>1</td></tr><tr><td>39</td><td>1</td></tr><tr><td>42</td><td>1</td></tr></tbody></table></div>"
      ],
      "text/plain": [
       "shape: (22, 2)\n",
       "┌─────┬───────┐\n",
       "│ Age ┆ count │\n",
       "│ --- ┆ ---   │\n",
       "│ i64 ┆ u32   │\n",
       "╞═════╪═══════╡\n",
       "│ 19  ┆ 14    │\n",
       "│ 20  ┆ 30    │\n",
       "│ 21  ┆ 46    │\n",
       "│ 22  ┆ 53    │\n",
       "│ ... ┆ ...   │\n",
       "│ 37  ┆ 3     │\n",
       "│ 38  ┆ 1     │\n",
       "│ 39  ┆ 1     │\n",
       "│ 42  ┆ 1     │\n",
       "└─────┴───────┘"
      ]
     },
     "execution_count": 87,
     "metadata": {},
     "output_type": "execute_result"
    }
   ],
   "source": [
    "age_count = nba_df.groupby('Age').agg(pl.count()).sort('Age')\n",
    "age_count"
   ]
  },
  {
   "cell_type": "code",
   "execution_count": null,
   "id": "5339adec",
   "metadata": {},
   "outputs": [],
   "source": []
  },
  {
   "cell_type": "code",
   "execution_count": null,
   "id": "c130627a",
   "metadata": {},
   "outputs": [],
   "source": []
  },
  {
   "cell_type": "code",
   "execution_count": null,
   "id": "7bd72022",
   "metadata": {},
   "outputs": [],
   "source": []
  }
 ],
 "metadata": {
  "kernelspec": {
   "display_name": "Python 3 (ipykernel)",
   "language": "python",
   "name": "python3"
  },
  "language_info": {
   "codemirror_mode": {
    "name": "ipython",
    "version": 3
   },
   "file_extension": ".py",
   "mimetype": "text/x-python",
   "name": "python",
   "nbconvert_exporter": "python",
   "pygments_lexer": "ipython3",
   "version": "3.9.12"
  }
 },
 "nbformat": 4,
 "nbformat_minor": 5
}
